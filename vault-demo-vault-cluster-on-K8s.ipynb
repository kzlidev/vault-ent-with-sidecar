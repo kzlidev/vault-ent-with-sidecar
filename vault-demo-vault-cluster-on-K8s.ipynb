{
 "cells": [
  {
   "cell_type": "markdown",
   "metadata": {
    "vscode": {
     "languageId": "shellscript"
    }
   },
   "source": [
    "# Vault Setup in Kubernetes (EKS)\n",
    "\n",
    "This demo is to show how a Vault cluster can be configured on Kubernetes with a sidecar (busybox)\n",
    "\n",
    "## Summary of solution\n",
    "\n",
    "This setup is tested on MacOS and is meant to simulate a distributed setup.  In this demo, we will be going through the following steps:\n",
    "- Setup a kind K8s cluster (https://kind.sigs.k8s.io/)\n",
    "- Install and Configure a 3 node Vault cluster with busybox sidecars using the Vault Helm Chart\n",
    "- Expose the Vault nodes using a NodePort\n",
    "\n",
    "## Requirements to Run This Demo\n",
    "You will need Visual Studio Code to be installed with the Jupyter plugin.  To run this notebook in VS Code, chose the Jupyter kernel and then Bash.\n",
    "- To run the current cell, use Ctrl + Enter.\n",
    "- To run the current cell and advance to the next, use Shift+Enter."
   ]
  },
  {
   "cell_type": "markdown",
   "metadata": {},
   "source": [
    "# Setup Pre-requisites (One-time)\n",
    "\n",
    "Assumes you have docker installed and brew installed\n",
    "\n",
    "- https://docs.docker.com/desktop/install/mac-install/\n",
    "- https://brew.sh/"
   ]
  },
  {
   "cell_type": "code",
   "execution_count": null,
   "metadata": {
    "vscode": {
     "languageId": "shellscript"
    }
   },
   "outputs": [],
   "source": [
    "# Install kind\n",
    "brew install kind"
   ]
  },
  {
   "cell_type": "code",
   "execution_count": null,
   "metadata": {
    "vscode": {
     "languageId": "shellscript"
    }
   },
   "outputs": [],
   "source": [
    "# Install Kubectl CLI\n",
    "brew install kubernetes-cli"
   ]
  },
  {
   "cell_type": "code",
   "execution_count": null,
   "metadata": {
    "vscode": {
     "languageId": "shellscript"
    }
   },
   "outputs": [],
   "source": [
    "# Install Helm CLI.  This is used to install the VSO helm chart.\n",
    "brew install helm"
   ]
  },
  {
   "cell_type": "code",
   "execution_count": null,
   "metadata": {
    "vscode": {
     "languageId": "shellscript"
    }
   },
   "outputs": [],
   "source": [
    "# Install K9s.  This is a nice console GUI for K8s.  https://k9scli.io/\n",
    "brew install K9s"
   ]
  },
  {
   "cell_type": "markdown",
   "metadata": {},
   "source": [
    "# Setup K8s cluster"
   ]
  },
  {
   "cell_type": "code",
   "execution_count": null,
   "metadata": {
    "ExecuteTime": {
     "end_time": "2024-10-11T01:29:15.556142Z",
     "start_time": "2024-10-11T01:28:40.174734Z"
    },
    "vscode": {
     "languageId": "shellscript"
    }
   },
   "outputs": [],
   "source": [
    "# Start a kind cluster 3 nodes for the Vault cluster and 1 node for the Transit Auto-Unseal\n",
    "# We will be setting up 6 worker nodes \n",
    "# Note that the Vault helm chart default affinity settings spreads a Vault setup across different host nodes\n",
    "# We will be doing a NodePort on port 30000 so kind needs to configure the extraPortMappings to expose port 30000 to the host\n",
    "kind create cluster --name vault --image kindest/node:v1.28.0 --config - <<EOF\n",
    "kind: Cluster\n",
    "apiVersion: kind.x-k8s.io/v1alpha4\n",
    "nodes:\n",
    "- role: control-plane\n",
    "  extraPortMappings:\n",
    "  - containerPort: 30000\n",
    "    hostPort: 30000\n",
    "    listenAddress: \"0.0.0.0\" # Optional, defaults to \"0.0.0.0\"\n",
    "    protocol: tcp # Optional, defaults to tcp\n",
    "- role: worker\n",
    "- role: worker\n",
    "- role: worker\n",
    "- role: worker\n",
    "- role: worker\n",
    "- role: worker\n",
    "EOF"
   ]
  },
  {
   "cell_type": "code",
   "execution_count": null,
   "metadata": {
    "ExecuteTime": {
     "end_time": "2024-10-11T01:29:18.951455Z",
     "start_time": "2024-10-11T01:29:17.802794Z"
    },
    "vscode": {
     "languageId": "shellscript"
    }
   },
   "outputs": [],
   "source": [
    "# Verify kind containers are running\n",
    "docker ps\n",
    "echo\n",
    "# Show that we have 6 nodes in our K8s cluster\n",
    "kubectl get nodes"
   ]
  },
  {
   "cell_type": "code",
   "execution_count": null,
   "metadata": {
    "ExecuteTime": {
     "end_time": "2024-10-11T01:32:30.718169Z",
     "start_time": "2024-10-11T01:32:30.021134Z"
    },
    "vscode": {
     "languageId": "shellscript"
    }
   },
   "outputs": [],
   "source": [
    "# Create a new K8s namespace for this demo\n",
    "## Specify the K8s namespace for the Vault setup\n",
    "export KUBENAMESPACE=vault-ns\n",
    "\n",
    "## Delete namespace if it exists\n",
    "#kubectl delete ns $KUBENAMESPACE\n",
    "\n",
    "echo \"Creating K8s namespace: $KUBENAMESPACE\"\n",
    "kubectl create ns $KUBENAMESPACE"
   ]
  },
  {
   "cell_type": "code",
   "execution_count": null,
   "metadata": {
    "ExecuteTime": {
     "end_time": "2024-10-11T01:29:35.166980Z",
     "start_time": "2024-10-11T01:29:34.798655Z"
    },
    "vscode": {
     "languageId": "shellscript"
    }
   },
   "outputs": [],
   "source": [
    "# Setup Vault Enterprise License in a K8s secret.  Update the path to your license file.\n",
    "export VAULT_LICENCE=$(cat ../vault.hclic)\n",
    "#kubectl delete secret vault-ent-license -n $KUBENAMESPACE\n",
    "kubectl create secret generic vault-ent-license --from-literal=\"license=${VAULT_LICENCE}\" -n $KUBENAMESPACE"
   ]
  },
  {
   "cell_type": "code",
   "execution_count": null,
   "metadata": {
    "ExecuteTime": {
     "end_time": "2024-10-11T01:29:44.190515Z",
     "start_time": "2024-10-11T01:29:42.966331Z"
    },
    "vscode": {
     "languageId": "shellscript"
    }
   },
   "outputs": [],
   "source": [
    "# We will be exposing the vault nodes using a NodePort on port 30000\n",
    "# vault-active: \"true\" is commented out.  If included, it will only route to the leader node\n",
    "kubectl apply -n $KUBENAMESPACE -f - <<EOF\n",
    "kind: Service\n",
    "apiVersion: v1\n",
    "metadata:\n",
    "  name: port-vault-svc\n",
    "spec:\n",
    "  type: NodePort \n",
    "  selector:\n",
    "    app.kubernetes.io/name: \"vault\"\n",
    "    app.kubernetes.io/instance: \"vault\"\n",
    "    component: server\n",
    "    #vault-active: \"true\"\n",
    "  ports:\n",
    "    - nodePort: 30000\n",
    "      port: 8200\n",
    "      targetPort: 8200\n",
    "EOF"
   ]
  },
  {
   "cell_type": "code",
   "execution_count": null,
   "metadata": {
    "ExecuteTime": {
     "end_time": "2024-10-11T01:32:38.266101Z",
     "start_time": "2024-10-11T01:32:38.100122Z"
    },
    "vscode": {
     "languageId": "shellscript"
    }
   },
   "outputs": [],
   "source": [
    "# Configure my host to connect to the NodePort for Vault\n",
    "export VAULT_ADDR=http://localhost:30000"
   ]
  },
  {
   "cell_type": "code",
   "execution_count": null,
   "metadata": {
    "vscode": {
     "languageId": "shellscript"
    }
   },
   "outputs": [],
   "source": [
    "# Add the HashiCorp repo (Only required for the first time)\n",
    "helm repo add hashicorp https://helm.releases.hashicorp.com"
   ]
  },
  {
   "cell_type": "code",
   "execution_count": null,
   "metadata": {
    "vscode": {
     "languageId": "shellscript"
    }
   },
   "outputs": [],
   "source": [
    "# Optional.  Update the repo (Only required when new versions are released)\n",
    "helm repo update"
   ]
  },
  {
   "cell_type": "code",
   "execution_count": null,
   "metadata": {
    "vscode": {
     "languageId": "shellscript"
    }
   },
   "outputs": [],
   "source": [
    "# Optional.  This allows you to view the helm charts for vault\n",
    "helm search repo hashicorp/vault -l"
   ]
  },
  {
   "cell_type": "markdown",
   "metadata": {},
   "source": [
    "# Setting up a new 3 node Vault Cluster"
   ]
  },
  {
   "cell_type": "code",
   "execution_count": null,
   "metadata": {
    "ExecuteTime": {
     "end_time": "2024-10-11T01:30:05.521717Z",
     "start_time": "2024-10-11T01:30:00.772134Z"
    },
    "vscode": {
     "languageId": "shellscript"
    }
   },
   "outputs": [],
   "source": [
    "# Install a 3 node Vault cluster using the Vault helm chart.  \n",
    "# This will configure the raft database on PersistentVolumes and also configure raft auto join between the 3 Vault pods.\n",
    "# For demo purposes, we will be using HTTP.\n",
    "# See https://developer.hashicorp.com/vault/docs/platform/k8s/helm/configuration for options\n",
    "helm install vault hashicorp/vault --version 0.28.1 -n $KUBENAMESPACE -f - <<EOF\n",
    "injector:\n",
    "  enabled: false\n",
    "server:\n",
    "  image:\n",
    "    repository: hashicorp/vault-enterprise\n",
    "    tag: latest\n",
    "  enterpriseLicense:\n",
    "    secretName: vault-ent-license\n",
    "  logLevel: trace\n",
    "  ha:\n",
    "    enabled: true\n",
    "    replicas: 3\n",
    "    raft:\n",
    "      enabled: true\n",
    "      setNodeId: true\n",
    "      config: |\n",
    "        disable_mlock = true\n",
    "        ui = true\n",
    "        listener \"tcp\" {\n",
    "          tls_disable = 1\n",
    "          address = \"[::]:8200\"\n",
    "          cluster_address = \"[::]:8201\"\n",
    "        }\n",
    "        storage \"raft\" {\n",
    "          # PVC Volume to keep Vault data\n",
    "          path = \"/vault/data\"\n",
    "          # For auto-join to the raft cluster\n",
    "          retry_join {\n",
    "            leader_api_addr = \"http://vault-0.vault-internal:8200\"\n",
    "          }\n",
    "          retry_join {\n",
    "            leader_api_addr = \"http://vault-1.vault-internal:8200\"\n",
    "          }\n",
    "          retry_join {\n",
    "            leader_api_addr = \"http://vault-2.vault-internal:8200\"\n",
    "          } \n",
    "        }\n",
    "  auditStorage:     # Enable audit storage\n",
    "    enabled: true\n",
    "  extraContainers:  # Deploy sidecar container\n",
    "    - name: debug-container\n",
    "      image: busybox\n",
    "      command: [\"sh\", \"-c\", \"while true; do sleep 3600; done\"]\n",
    "      volumeMounts:\n",
    "        - name: audit\n",
    "          mountPath: /vault/audit\n",
    "EOF\n",
    "\n"
   ]
  },
  {
   "cell_type": "code",
   "execution_count": null,
   "metadata": {
    "ExecuteTime": {
     "end_time": "2024-10-11T01:30:32.111278Z",
     "start_time": "2024-10-11T01:30:31.879921Z"
    },
    "vscode": {
     "languageId": "shellscript"
    }
   },
   "outputs": [],
   "source": [
    "# View installed charts\n",
    "helm list -A\n"
   ]
  },
  {
   "cell_type": "code",
   "execution_count": null,
   "metadata": {
    "ExecuteTime": {
     "end_time": "2024-10-11T01:35:52.330623Z",
     "start_time": "2024-10-11T01:35:51.586974Z"
    },
    "vscode": {
     "languageId": "shellscript"
    }
   },
   "outputs": [],
   "source": [
    "# View Vault pods in Vault namespace\n",
    "#kubectl get pods -n $KUBENAMESPACE -o wide\n",
    "\n",
    "# Show resources in Vault namespace\n",
    "kubectl -n $KUBENAMESPACE get all\n",
    "\n",
    "# Make sure all Vault pods are in Running status before continuing\n",
    "\n",
    "# Note:\n",
    "# The containers should start within less than a minute.  If the containers get stuck in ContainerCreating for very long without any errors.\n",
    "# There could be throttling issues on the DockerHub side.  You might want to kill and restart the kind cluster and try again."
   ]
  },
  {
   "cell_type": "code",
   "execution_count": null,
   "metadata": {
    "vscode": {
     "languageId": "shellscript"
    }
   },
   "outputs": [],
   "source": [
    "# Check that all the pods have 2 containers running (vault and debug-container)\n",
    "kubectl get pods vault-0 -n $KUBENAMESPACE -o jsonpath='{.spec.containers[*].name}'\n",
    "kubectl get pods vault-1 -n $KUBENAMESPACE -o jsonpath='{.spec.containers[*].name}'\n",
    "kubectl get pods vault-2 -n $KUBENAMESPACE -o jsonpath='{.spec.containers[*].name}'"
   ]
  },
  {
   "cell_type": "code",
   "execution_count": null,
   "metadata": {
    "ExecuteTime": {
     "end_time": "2024-10-11T01:33:04.432409Z",
     "start_time": "2024-10-11T01:33:03.669200Z"
    },
    "vscode": {
     "languageId": "shellscript"
    }
   },
   "outputs": [],
   "source": [
    "# On first time setup, verify that all Vault nodes are sealed and not initialized.  Initialized = false & Sealed = true\n",
    "kubectl exec -ti vault-0 -n $KUBENAMESPACE -- vault status\n",
    "echo\n",
    "kubectl exec -ti vault-1 -n $KUBENAMESPACE -- vault status\n",
    "echo\n",
    "kubectl exec -ti vault-2 -n $KUBENAMESPACE -- vault status"
   ]
  },
  {
   "cell_type": "code",
   "execution_count": null,
   "metadata": {
    "ExecuteTime": {
     "end_time": "2024-10-11T01:33:32.661599Z",
     "start_time": "2024-10-11T01:33:25.441458Z"
    },
    "vscode": {
     "languageId": "shellscript"
    }
   },
   "outputs": [],
   "source": [
    "# Initialize vault-0 pod.  For demo purposes, we will just be generating 1 unseal key.\n",
    "kubectl exec -ti vault-0 -n $KUBENAMESPACE -- vault operator init -format=json -key-shares=1 -key-threshold=1 > init.json"
   ]
  },
  {
   "cell_type": "code",
   "execution_count": null,
   "metadata": {
    "ExecuteTime": {
     "end_time": "2024-10-11T01:33:52.790583Z",
     "start_time": "2024-10-11T01:33:52.206912Z"
    },
    "vscode": {
     "languageId": "shellscript"
    }
   },
   "outputs": [],
   "source": [
    "# Show the init.json\n",
    "cat init.json | jq\n",
    "\n",
    "# Store the Unseal Key and Root Token for use later\n",
    "export UNSEAL_KEY=$(jq -r '.unseal_keys_b64[]' init.json)\n",
    "export VAULT_TOKEN=$(jq -r '.root_token' init.json)\n",
    "echo\n",
    "echo \"Vault Unseal Key: $UNSEAL_KEY\"\n",
    "echo \"Vault Root Token: $VAULT_TOKEN\""
   ]
  },
  {
   "cell_type": "code",
   "execution_count": null,
   "metadata": {
    "ExecuteTime": {
     "end_time": "2024-10-11T01:34:10.830134Z",
     "start_time": "2024-10-11T01:34:10.436711Z"
    },
    "vscode": {
     "languageId": "shellscript"
    }
   },
   "outputs": [],
   "source": [
    "# Unseal vault-0 pod.  You should see Sealed = false.  Re-run the command if Sealed is true.\n",
    "echo \"Vault Unseal Key: $UNSEAL_KEY\"\n",
    "kubectl exec -ti vault-0 -n $KUBENAMESPACE -- vault operator unseal $UNSEAL_KEY"
   ]
  },
  {
   "cell_type": "code",
   "execution_count": null,
   "metadata": {
    "ExecuteTime": {
     "end_time": "2024-10-11T01:34:32.906023Z",
     "start_time": "2024-10-11T01:34:32.112980Z"
    },
    "vscode": {
     "languageId": "shellscript"
    }
   },
   "outputs": [],
   "source": [
    "# Unseal vault-1 pod.  You should see Sealed = false.  Re-run the command if Sealed is true.\n",
    "echo \"Vault Unseal Key: $UNSEAL_KEY\"\n",
    "kubectl exec -ti vault-1 -n $KUBENAMESPACE -- vault operator unseal $UNSEAL_KEY"
   ]
  },
  {
   "cell_type": "code",
   "execution_count": null,
   "metadata": {
    "ExecuteTime": {
     "end_time": "2024-10-11T01:34:34.905314Z",
     "start_time": "2024-10-11T01:34:33.098093Z"
    },
    "vscode": {
     "languageId": "shellscript"
    }
   },
   "outputs": [],
   "source": [
    "# Unseal vault-2 pod.  You should see Sealed = false.  Re-run the command if Sealed is true.\n",
    "echo \"Vault Unseal Key: $UNSEAL_KEY\"\n",
    "kubectl exec -ti vault-2 -n $KUBENAMESPACE -- vault operator unseal $UNSEAL_KEY"
   ]
  },
  {
   "cell_type": "code",
   "execution_count": null,
   "metadata": {
    "vscode": {
     "languageId": "shellscript"
    }
   },
   "outputs": [],
   "source": [
    "# Enable audit on log to write to pod file\n",
    "vault audit enable file file_path=/vault/audit/vault.log"
   ]
  },
  {
   "cell_type": "code",
   "execution_count": null,
   "metadata": {
    "ExecuteTime": {
     "end_time": "2024-10-11T01:36:48.661470Z",
     "start_time": "2024-10-11T01:36:47.366137Z"
    },
    "vscode": {
     "languageId": "shellscript"
    }
   },
   "outputs": [],
   "source": [
    "# Verify that I can access the vault cluster from the node port\n",
    "vault secrets list\n",
    "echo\n",
    "# Test logging in as root on vault-0 and verify that you can also access vault from the pod\n",
    "kubectl exec -ti vault-0 -n $KUBENAMESPACE -- vault login $VAULT_TOKEN\n",
    "echo\n",
    "kubectl exec -ti vault-0 -n $KUBENAMESPACE -- vault secrets list"
   ]
  },
  {
   "cell_type": "code",
   "execution_count": null,
   "metadata": {
    "vscode": {
     "languageId": "shellscript"
    }
   },
   "outputs": [],
   "source": [
    "# Sidecar read from pod file\n",
    "kubectl exec -ti vault-0 -n $KUBENAMESPACE -c debug-container -- cat /vault/audit/vault.log"
   ]
  },
  {
   "cell_type": "markdown",
   "metadata": {
    "vscode": {
     "languageId": "shellscript"
    }
   },
   "source": [
    "## Clean Up"
   ]
  },
  {
   "cell_type": "code",
   "execution_count": null,
   "metadata": {
    "ExecuteTime": {
     "end_time": "2024-10-11T02:00:43.552093Z",
     "start_time": "2024-10-11T02:00:29.661985Z"
    },
    "vscode": {
     "languageId": "shellscript"
    }
   },
   "outputs": [],
   "source": [
    "# Clean up temp files\n",
    "rm init.json\n",
    "rm token.json\n",
    "\n",
    "# Disable file audit device\n",
    "vault audit disable file\n",
    "\n",
    "# Remove the NodePort\n",
    "kubectl delete svc port-vault-svc -n $KUBENAMESPACE \n",
    "\n",
    "# Delete Vault cluster\n",
    "helm delete vault -n $KUBENAMESPACE\n",
    "\n",
    "# Delete the Vault for Transit Auto Unseal\n",
    "helm delete vault-transit -n $KUBENAMESPACE\n",
    "\n",
    "# Clear Vault PVCs\n",
    "kubectl -n $KUBENAMESPACE delete pvc --all \n",
    "\n",
    "# Delete kind cluster\n",
    "kind delete cluster --name vault"
   ]
  },
  {
   "cell_type": "markdown",
   "metadata": {},
   "source": [
    "# Appendix - Other Useful Commands"
   ]
  },
  {
   "cell_type": "code",
   "execution_count": null,
   "metadata": {
    "vscode": {
     "languageId": "shellscript"
    }
   },
   "outputs": [],
   "source": [
    "# Optional: Turn on the file audit device, this allows you to keep a detailed log of all requests to Vault\n",
    "vault audit enable file file_path=/vault/audit/vault_audit.log"
   ]
  },
  {
   "cell_type": "code",
   "execution_count": null,
   "metadata": {
    "vscode": {
     "languageId": "shellscript"
    }
   },
   "outputs": [],
   "source": [
    "# Optional: view pod logs\n",
    "kubectl logs vault-0 -n $KUBENAMESPACE"
   ]
  },
  {
   "cell_type": "code",
   "execution_count": null,
   "metadata": {
    "vscode": {
     "languageId": "shellscript"
    }
   },
   "outputs": [],
   "source": [
    "# Optional: view pod details\n",
    "kubectl describe pod vault-0 -n $KUBENAMESPACE"
   ]
  },
  {
   "cell_type": "code",
   "execution_count": null,
   "metadata": {
    "vscode": {
     "languageId": "shellscript"
    }
   },
   "outputs": [],
   "source": [
    "# Optional: Add metrics-server to be able to view CPU and memory usage\n",
    "helm repo add metrics-server https://kubernetes-sigs.github.io/metrics-server/\n",
    "helm repo update\n",
    "helm upgrade --install --set args={--kubelet-insecure-tls} metrics-server metrics-server/metrics-server --namespace kube-system"
   ]
  },
  {
   "cell_type": "code",
   "execution_count": null,
   "metadata": {
    "vscode": {
     "languageId": "shellscript"
    }
   },
   "outputs": [],
   "source": [
    "# Optional: You can use k9s to view your pods.\n",
    "# You can also use the following commands to see the utlization on your nodes/pods\n",
    "kubectl top nodes\n",
    "echo\n",
    "kubectl top pod -n $KUBENAMESPACE"
   ]
  },
  {
   "cell_type": "code",
   "execution_count": null,
   "metadata": {
    "vscode": {
     "languageId": "shellscript"
    }
   },
   "outputs": [],
   "source": [
    "# To get a shell into a Vault pod\n",
    "echo $KUBENAMESPACE\n",
    "kubectl exec -ti vault-0 -n $KUBENAMESPACE -- /bin/sh\n",
    "#kubectl exec -ti vault-0 -n vault-ns -- /bin/sh"
   ]
  },
  {
   "cell_type": "code",
   "execution_count": null,
   "metadata": {
    "vscode": {
     "languageId": "shellscript"
    }
   },
   "outputs": [],
   "source": [
    "# Show ConfigMap resources for Vault\n",
    "kubectl get configmap -n $KUBENAMESPACE -o=yaml"
   ]
  },
  {
   "cell_type": "code",
   "execution_count": null,
   "metadata": {
    "vscode": {
     "languageId": "shellscript"
    }
   },
   "outputs": [],
   "source": [
    "# Show vault-config details\n",
    "kubectl describe configmaps vault-config -n $KUBENAMESPACE"
   ]
  },
  {
   "cell_type": "code",
   "execution_count": null,
   "metadata": {
    "vscode": {
     "languageId": "shellscript"
    }
   },
   "outputs": [],
   "source": [
    "# Show Vault pod details\n",
    "kubectl describe pod vault-0 -n $KUBENAMESPACE"
   ]
  },
  {
   "cell_type": "code",
   "execution_count": null,
   "metadata": {
    "vscode": {
     "languageId": "shellscript"
    }
   },
   "outputs": [],
   "source": [
    "# Show Persistent Volume Claims in use by Vault\n",
    "kubectl get pvc -n $KUBENAMESPACE -o=yaml"
   ]
  }
 ],
 "metadata": {
  "kernelspec": {
   "display_name": "Bash",
   "language": "bash",
   "name": "bash"
  },
  "language_info": {
   "codemirror_mode": "shell",
   "file_extension": ".sh",
   "mimetype": "text/x-sh",
   "name": "bash"
  }
 },
 "nbformat": 4,
 "nbformat_minor": 4
}
